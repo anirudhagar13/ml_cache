{
  "nbformat": 4,
  "nbformat_minor": 0,
  "metadata": {
    "kernelspec": {
      "display_name": "Python 3",
      "language": "python",
      "name": "python3"
    },
    "language_info": {
      "codemirror_mode": {
        "name": "ipython",
        "version": 3
      },
      "file_extension": ".py",
      "mimetype": "text/x-python",
      "name": "python",
      "nbconvert_exporter": "python",
      "pygments_lexer": "ipython3",
      "version": "3.7.4"
    },
    "colab": {
      "name": "q1.ipynb",
      "provenance": [],
      "collapsed_sections": []
    },
    "widgets": {
      "application/vnd.jupyter.widget-state+json": {
        "496df052b35f49c9b703949ae875cfbf": {
          "model_module": "@jupyter-widgets/controls",
          "model_name": "HBoxModel",
          "state": {
            "_view_name": "HBoxView",
            "_dom_classes": [],
            "_model_name": "HBoxModel",
            "_view_module": "@jupyter-widgets/controls",
            "_model_module_version": "1.5.0",
            "_view_count": null,
            "_view_module_version": "1.5.0",
            "box_style": "",
            "layout": "IPY_MODEL_0c9f049bfe7c4d39808467b45c97691b",
            "_model_module": "@jupyter-widgets/controls",
            "children": [
              "IPY_MODEL_c829da3988724ee4b310abcf33a6bbed",
              "IPY_MODEL_4fea11c0d7b747cabde85b86b028ff32"
            ]
          }
        },
        "0c9f049bfe7c4d39808467b45c97691b": {
          "model_module": "@jupyter-widgets/base",
          "model_name": "LayoutModel",
          "state": {
            "_view_name": "LayoutView",
            "grid_template_rows": null,
            "right": null,
            "justify_content": null,
            "_view_module": "@jupyter-widgets/base",
            "overflow": null,
            "_model_module_version": "1.2.0",
            "_view_count": null,
            "flex_flow": null,
            "width": null,
            "min_width": null,
            "border": null,
            "align_items": null,
            "bottom": null,
            "_model_module": "@jupyter-widgets/base",
            "top": null,
            "grid_column": null,
            "overflow_y": null,
            "overflow_x": null,
            "grid_auto_flow": null,
            "grid_area": null,
            "grid_template_columns": null,
            "flex": null,
            "_model_name": "LayoutModel",
            "justify_items": null,
            "grid_row": null,
            "max_height": null,
            "align_content": null,
            "visibility": null,
            "align_self": null,
            "height": null,
            "min_height": null,
            "padding": null,
            "grid_auto_rows": null,
            "grid_gap": null,
            "max_width": null,
            "order": null,
            "_view_module_version": "1.2.0",
            "grid_template_areas": null,
            "object_position": null,
            "object_fit": null,
            "grid_auto_columns": null,
            "margin": null,
            "display": null,
            "left": null
          }
        },
        "c829da3988724ee4b310abcf33a6bbed": {
          "model_module": "@jupyter-widgets/controls",
          "model_name": "IntProgressModel",
          "state": {
            "_view_name": "ProgressView",
            "style": "IPY_MODEL_8bb2bb1a4e244180ac8877092999800c",
            "_dom_classes": [],
            "description": "",
            "_model_name": "IntProgressModel",
            "bar_style": "info",
            "max": 1,
            "_view_module": "@jupyter-widgets/controls",
            "_model_module_version": "1.5.0",
            "value": 1,
            "_view_count": null,
            "_view_module_version": "1.5.0",
            "orientation": "horizontal",
            "min": 0,
            "description_tooltip": null,
            "_model_module": "@jupyter-widgets/controls",
            "layout": "IPY_MODEL_1fe56052ef544271a3a13a20b343607b"
          }
        },
        "4fea11c0d7b747cabde85b86b028ff32": {
          "model_module": "@jupyter-widgets/controls",
          "model_name": "HTMLModel",
          "state": {
            "_view_name": "HTMLView",
            "style": "IPY_MODEL_829b136d9efe44e7b225cbb023e7df74",
            "_dom_classes": [],
            "description": "",
            "_model_name": "HTMLModel",
            "placeholder": "​",
            "_view_module": "@jupyter-widgets/controls",
            "_model_module_version": "1.5.0",
            "value": " 9920512/? [00:20&lt;00:00, 1577856.29it/s]",
            "_view_count": null,
            "_view_module_version": "1.5.0",
            "description_tooltip": null,
            "_model_module": "@jupyter-widgets/controls",
            "layout": "IPY_MODEL_f12e68eb56c84ce4af21dcc56e22e089"
          }
        },
        "8bb2bb1a4e244180ac8877092999800c": {
          "model_module": "@jupyter-widgets/controls",
          "model_name": "ProgressStyleModel",
          "state": {
            "_view_name": "StyleView",
            "_model_name": "ProgressStyleModel",
            "description_width": "initial",
            "_view_module": "@jupyter-widgets/base",
            "_model_module_version": "1.5.0",
            "_view_count": null,
            "_view_module_version": "1.2.0",
            "bar_color": null,
            "_model_module": "@jupyter-widgets/controls"
          }
        },
        "1fe56052ef544271a3a13a20b343607b": {
          "model_module": "@jupyter-widgets/base",
          "model_name": "LayoutModel",
          "state": {
            "_view_name": "LayoutView",
            "grid_template_rows": null,
            "right": null,
            "justify_content": null,
            "_view_module": "@jupyter-widgets/base",
            "overflow": null,
            "_model_module_version": "1.2.0",
            "_view_count": null,
            "flex_flow": null,
            "width": null,
            "min_width": null,
            "border": null,
            "align_items": null,
            "bottom": null,
            "_model_module": "@jupyter-widgets/base",
            "top": null,
            "grid_column": null,
            "overflow_y": null,
            "overflow_x": null,
            "grid_auto_flow": null,
            "grid_area": null,
            "grid_template_columns": null,
            "flex": null,
            "_model_name": "LayoutModel",
            "justify_items": null,
            "grid_row": null,
            "max_height": null,
            "align_content": null,
            "visibility": null,
            "align_self": null,
            "height": null,
            "min_height": null,
            "padding": null,
            "grid_auto_rows": null,
            "grid_gap": null,
            "max_width": null,
            "order": null,
            "_view_module_version": "1.2.0",
            "grid_template_areas": null,
            "object_position": null,
            "object_fit": null,
            "grid_auto_columns": null,
            "margin": null,
            "display": null,
            "left": null
          }
        },
        "829b136d9efe44e7b225cbb023e7df74": {
          "model_module": "@jupyter-widgets/controls",
          "model_name": "DescriptionStyleModel",
          "state": {
            "_view_name": "StyleView",
            "_model_name": "DescriptionStyleModel",
            "description_width": "",
            "_view_module": "@jupyter-widgets/base",
            "_model_module_version": "1.5.0",
            "_view_count": null,
            "_view_module_version": "1.2.0",
            "_model_module": "@jupyter-widgets/controls"
          }
        },
        "f12e68eb56c84ce4af21dcc56e22e089": {
          "model_module": "@jupyter-widgets/base",
          "model_name": "LayoutModel",
          "state": {
            "_view_name": "LayoutView",
            "grid_template_rows": null,
            "right": null,
            "justify_content": null,
            "_view_module": "@jupyter-widgets/base",
            "overflow": null,
            "_model_module_version": "1.2.0",
            "_view_count": null,
            "flex_flow": null,
            "width": null,
            "min_width": null,
            "border": null,
            "align_items": null,
            "bottom": null,
            "_model_module": "@jupyter-widgets/base",
            "top": null,
            "grid_column": null,
            "overflow_y": null,
            "overflow_x": null,
            "grid_auto_flow": null,
            "grid_area": null,
            "grid_template_columns": null,
            "flex": null,
            "_model_name": "LayoutModel",
            "justify_items": null,
            "grid_row": null,
            "max_height": null,
            "align_content": null,
            "visibility": null,
            "align_self": null,
            "height": null,
            "min_height": null,
            "padding": null,
            "grid_auto_rows": null,
            "grid_gap": null,
            "max_width": null,
            "order": null,
            "_view_module_version": "1.2.0",
            "grid_template_areas": null,
            "object_position": null,
            "object_fit": null,
            "grid_auto_columns": null,
            "margin": null,
            "display": null,
            "left": null
          }
        },
        "1279533f923d4c4eacc4a1de3358cda3": {
          "model_module": "@jupyter-widgets/controls",
          "model_name": "HBoxModel",
          "state": {
            "_view_name": "HBoxView",
            "_dom_classes": [],
            "_model_name": "HBoxModel",
            "_view_module": "@jupyter-widgets/controls",
            "_model_module_version": "1.5.0",
            "_view_count": null,
            "_view_module_version": "1.5.0",
            "box_style": "",
            "layout": "IPY_MODEL_a233b18c0b314fbd9e8607289a552934",
            "_model_module": "@jupyter-widgets/controls",
            "children": [
              "IPY_MODEL_17ce2e214f1f423d9de3c293152389b7",
              "IPY_MODEL_50413077f77546c6b7349db08cb13dec"
            ]
          }
        },
        "a233b18c0b314fbd9e8607289a552934": {
          "model_module": "@jupyter-widgets/base",
          "model_name": "LayoutModel",
          "state": {
            "_view_name": "LayoutView",
            "grid_template_rows": null,
            "right": null,
            "justify_content": null,
            "_view_module": "@jupyter-widgets/base",
            "overflow": null,
            "_model_module_version": "1.2.0",
            "_view_count": null,
            "flex_flow": null,
            "width": null,
            "min_width": null,
            "border": null,
            "align_items": null,
            "bottom": null,
            "_model_module": "@jupyter-widgets/base",
            "top": null,
            "grid_column": null,
            "overflow_y": null,
            "overflow_x": null,
            "grid_auto_flow": null,
            "grid_area": null,
            "grid_template_columns": null,
            "flex": null,
            "_model_name": "LayoutModel",
            "justify_items": null,
            "grid_row": null,
            "max_height": null,
            "align_content": null,
            "visibility": null,
            "align_self": null,
            "height": null,
            "min_height": null,
            "padding": null,
            "grid_auto_rows": null,
            "grid_gap": null,
            "max_width": null,
            "order": null,
            "_view_module_version": "1.2.0",
            "grid_template_areas": null,
            "object_position": null,
            "object_fit": null,
            "grid_auto_columns": null,
            "margin": null,
            "display": null,
            "left": null
          }
        },
        "17ce2e214f1f423d9de3c293152389b7": {
          "model_module": "@jupyter-widgets/controls",
          "model_name": "IntProgressModel",
          "state": {
            "_view_name": "ProgressView",
            "style": "IPY_MODEL_04396c51f12440dba0bc749b080cffa7",
            "_dom_classes": [],
            "description": "",
            "_model_name": "IntProgressModel",
            "bar_style": "success",
            "max": 1,
            "_view_module": "@jupyter-widgets/controls",
            "_model_module_version": "1.5.0",
            "value": 1,
            "_view_count": null,
            "_view_module_version": "1.5.0",
            "orientation": "horizontal",
            "min": 0,
            "description_tooltip": null,
            "_model_module": "@jupyter-widgets/controls",
            "layout": "IPY_MODEL_4e6161ab2a8c45969d52b1f615c9e076"
          }
        },
        "50413077f77546c6b7349db08cb13dec": {
          "model_module": "@jupyter-widgets/controls",
          "model_name": "HTMLModel",
          "state": {
            "_view_name": "HTMLView",
            "style": "IPY_MODEL_6a6a56ff245e418ca36e32f6c2055e3b",
            "_dom_classes": [],
            "description": "",
            "_model_name": "HTMLModel",
            "placeholder": "​",
            "_view_module": "@jupyter-widgets/controls",
            "_model_module_version": "1.5.0",
            "value": " 32768/? [00:00&lt;00:00, 34494.80it/s]",
            "_view_count": null,
            "_view_module_version": "1.5.0",
            "description_tooltip": null,
            "_model_module": "@jupyter-widgets/controls",
            "layout": "IPY_MODEL_b79732eb79074eac84bcc5e84a6e49db"
          }
        },
        "04396c51f12440dba0bc749b080cffa7": {
          "model_module": "@jupyter-widgets/controls",
          "model_name": "ProgressStyleModel",
          "state": {
            "_view_name": "StyleView",
            "_model_name": "ProgressStyleModel",
            "description_width": "initial",
            "_view_module": "@jupyter-widgets/base",
            "_model_module_version": "1.5.0",
            "_view_count": null,
            "_view_module_version": "1.2.0",
            "bar_color": null,
            "_model_module": "@jupyter-widgets/controls"
          }
        },
        "4e6161ab2a8c45969d52b1f615c9e076": {
          "model_module": "@jupyter-widgets/base",
          "model_name": "LayoutModel",
          "state": {
            "_view_name": "LayoutView",
            "grid_template_rows": null,
            "right": null,
            "justify_content": null,
            "_view_module": "@jupyter-widgets/base",
            "overflow": null,
            "_model_module_version": "1.2.0",
            "_view_count": null,
            "flex_flow": null,
            "width": null,
            "min_width": null,
            "border": null,
            "align_items": null,
            "bottom": null,
            "_model_module": "@jupyter-widgets/base",
            "top": null,
            "grid_column": null,
            "overflow_y": null,
            "overflow_x": null,
            "grid_auto_flow": null,
            "grid_area": null,
            "grid_template_columns": null,
            "flex": null,
            "_model_name": "LayoutModel",
            "justify_items": null,
            "grid_row": null,
            "max_height": null,
            "align_content": null,
            "visibility": null,
            "align_self": null,
            "height": null,
            "min_height": null,
            "padding": null,
            "grid_auto_rows": null,
            "grid_gap": null,
            "max_width": null,
            "order": null,
            "_view_module_version": "1.2.0",
            "grid_template_areas": null,
            "object_position": null,
            "object_fit": null,
            "grid_auto_columns": null,
            "margin": null,
            "display": null,
            "left": null
          }
        },
        "6a6a56ff245e418ca36e32f6c2055e3b": {
          "model_module": "@jupyter-widgets/controls",
          "model_name": "DescriptionStyleModel",
          "state": {
            "_view_name": "StyleView",
            "_model_name": "DescriptionStyleModel",
            "description_width": "",
            "_view_module": "@jupyter-widgets/base",
            "_model_module_version": "1.5.0",
            "_view_count": null,
            "_view_module_version": "1.2.0",
            "_model_module": "@jupyter-widgets/controls"
          }
        },
        "b79732eb79074eac84bcc5e84a6e49db": {
          "model_module": "@jupyter-widgets/base",
          "model_name": "LayoutModel",
          "state": {
            "_view_name": "LayoutView",
            "grid_template_rows": null,
            "right": null,
            "justify_content": null,
            "_view_module": "@jupyter-widgets/base",
            "overflow": null,
            "_model_module_version": "1.2.0",
            "_view_count": null,
            "flex_flow": null,
            "width": null,
            "min_width": null,
            "border": null,
            "align_items": null,
            "bottom": null,
            "_model_module": "@jupyter-widgets/base",
            "top": null,
            "grid_column": null,
            "overflow_y": null,
            "overflow_x": null,
            "grid_auto_flow": null,
            "grid_area": null,
            "grid_template_columns": null,
            "flex": null,
            "_model_name": "LayoutModel",
            "justify_items": null,
            "grid_row": null,
            "max_height": null,
            "align_content": null,
            "visibility": null,
            "align_self": null,
            "height": null,
            "min_height": null,
            "padding": null,
            "grid_auto_rows": null,
            "grid_gap": null,
            "max_width": null,
            "order": null,
            "_view_module_version": "1.2.0",
            "grid_template_areas": null,
            "object_position": null,
            "object_fit": null,
            "grid_auto_columns": null,
            "margin": null,
            "display": null,
            "left": null
          }
        },
        "3314b1564a20417694e8c5f1ad19b2fe": {
          "model_module": "@jupyter-widgets/controls",
          "model_name": "HBoxModel",
          "state": {
            "_view_name": "HBoxView",
            "_dom_classes": [],
            "_model_name": "HBoxModel",
            "_view_module": "@jupyter-widgets/controls",
            "_model_module_version": "1.5.0",
            "_view_count": null,
            "_view_module_version": "1.5.0",
            "box_style": "",
            "layout": "IPY_MODEL_b7e105d398d345e8b5cd5dc0ff330e39",
            "_model_module": "@jupyter-widgets/controls",
            "children": [
              "IPY_MODEL_df97d107f4dc4aba90bed2c33703d424",
              "IPY_MODEL_1a5f4e7359414c078693d4e6f84fe005"
            ]
          }
        },
        "b7e105d398d345e8b5cd5dc0ff330e39": {
          "model_module": "@jupyter-widgets/base",
          "model_name": "LayoutModel",
          "state": {
            "_view_name": "LayoutView",
            "grid_template_rows": null,
            "right": null,
            "justify_content": null,
            "_view_module": "@jupyter-widgets/base",
            "overflow": null,
            "_model_module_version": "1.2.0",
            "_view_count": null,
            "flex_flow": null,
            "width": null,
            "min_width": null,
            "border": null,
            "align_items": null,
            "bottom": null,
            "_model_module": "@jupyter-widgets/base",
            "top": null,
            "grid_column": null,
            "overflow_y": null,
            "overflow_x": null,
            "grid_auto_flow": null,
            "grid_area": null,
            "grid_template_columns": null,
            "flex": null,
            "_model_name": "LayoutModel",
            "justify_items": null,
            "grid_row": null,
            "max_height": null,
            "align_content": null,
            "visibility": null,
            "align_self": null,
            "height": null,
            "min_height": null,
            "padding": null,
            "grid_auto_rows": null,
            "grid_gap": null,
            "max_width": null,
            "order": null,
            "_view_module_version": "1.2.0",
            "grid_template_areas": null,
            "object_position": null,
            "object_fit": null,
            "grid_auto_columns": null,
            "margin": null,
            "display": null,
            "left": null
          }
        },
        "df97d107f4dc4aba90bed2c33703d424": {
          "model_module": "@jupyter-widgets/controls",
          "model_name": "IntProgressModel",
          "state": {
            "_view_name": "ProgressView",
            "style": "IPY_MODEL_a87b7a83155b402b908286c18e60d9f6",
            "_dom_classes": [],
            "description": "",
            "_model_name": "IntProgressModel",
            "bar_style": "success",
            "max": 1,
            "_view_module": "@jupyter-widgets/controls",
            "_model_module_version": "1.5.0",
            "value": 1,
            "_view_count": null,
            "_view_module_version": "1.5.0",
            "orientation": "horizontal",
            "min": 0,
            "description_tooltip": null,
            "_model_module": "@jupyter-widgets/controls",
            "layout": "IPY_MODEL_6f90ef66d3bb40a8b1cadd2334bbee52"
          }
        },
        "1a5f4e7359414c078693d4e6f84fe005": {
          "model_module": "@jupyter-widgets/controls",
          "model_name": "HTMLModel",
          "state": {
            "_view_name": "HTMLView",
            "style": "IPY_MODEL_f0925679a34a4e288855d06c2c7e15fa",
            "_dom_classes": [],
            "description": "",
            "_model_name": "HTMLModel",
            "placeholder": "​",
            "_view_module": "@jupyter-widgets/controls",
            "_model_module_version": "1.5.0",
            "value": " 1654784/? [00:00&lt;00:00, 2437357.21it/s]",
            "_view_count": null,
            "_view_module_version": "1.5.0",
            "description_tooltip": null,
            "_model_module": "@jupyter-widgets/controls",
            "layout": "IPY_MODEL_0f929b4cd9fb44a7870451499d79801b"
          }
        },
        "a87b7a83155b402b908286c18e60d9f6": {
          "model_module": "@jupyter-widgets/controls",
          "model_name": "ProgressStyleModel",
          "state": {
            "_view_name": "StyleView",
            "_model_name": "ProgressStyleModel",
            "description_width": "initial",
            "_view_module": "@jupyter-widgets/base",
            "_model_module_version": "1.5.0",
            "_view_count": null,
            "_view_module_version": "1.2.0",
            "bar_color": null,
            "_model_module": "@jupyter-widgets/controls"
          }
        },
        "6f90ef66d3bb40a8b1cadd2334bbee52": {
          "model_module": "@jupyter-widgets/base",
          "model_name": "LayoutModel",
          "state": {
            "_view_name": "LayoutView",
            "grid_template_rows": null,
            "right": null,
            "justify_content": null,
            "_view_module": "@jupyter-widgets/base",
            "overflow": null,
            "_model_module_version": "1.2.0",
            "_view_count": null,
            "flex_flow": null,
            "width": null,
            "min_width": null,
            "border": null,
            "align_items": null,
            "bottom": null,
            "_model_module": "@jupyter-widgets/base",
            "top": null,
            "grid_column": null,
            "overflow_y": null,
            "overflow_x": null,
            "grid_auto_flow": null,
            "grid_area": null,
            "grid_template_columns": null,
            "flex": null,
            "_model_name": "LayoutModel",
            "justify_items": null,
            "grid_row": null,
            "max_height": null,
            "align_content": null,
            "visibility": null,
            "align_self": null,
            "height": null,
            "min_height": null,
            "padding": null,
            "grid_auto_rows": null,
            "grid_gap": null,
            "max_width": null,
            "order": null,
            "_view_module_version": "1.2.0",
            "grid_template_areas": null,
            "object_position": null,
            "object_fit": null,
            "grid_auto_columns": null,
            "margin": null,
            "display": null,
            "left": null
          }
        },
        "f0925679a34a4e288855d06c2c7e15fa": {
          "model_module": "@jupyter-widgets/controls",
          "model_name": "DescriptionStyleModel",
          "state": {
            "_view_name": "StyleView",
            "_model_name": "DescriptionStyleModel",
            "description_width": "",
            "_view_module": "@jupyter-widgets/base",
            "_model_module_version": "1.5.0",
            "_view_count": null,
            "_view_module_version": "1.2.0",
            "_model_module": "@jupyter-widgets/controls"
          }
        },
        "0f929b4cd9fb44a7870451499d79801b": {
          "model_module": "@jupyter-widgets/base",
          "model_name": "LayoutModel",
          "state": {
            "_view_name": "LayoutView",
            "grid_template_rows": null,
            "right": null,
            "justify_content": null,
            "_view_module": "@jupyter-widgets/base",
            "overflow": null,
            "_model_module_version": "1.2.0",
            "_view_count": null,
            "flex_flow": null,
            "width": null,
            "min_width": null,
            "border": null,
            "align_items": null,
            "bottom": null,
            "_model_module": "@jupyter-widgets/base",
            "top": null,
            "grid_column": null,
            "overflow_y": null,
            "overflow_x": null,
            "grid_auto_flow": null,
            "grid_area": null,
            "grid_template_columns": null,
            "flex": null,
            "_model_name": "LayoutModel",
            "justify_items": null,
            "grid_row": null,
            "max_height": null,
            "align_content": null,
            "visibility": null,
            "align_self": null,
            "height": null,
            "min_height": null,
            "padding": null,
            "grid_auto_rows": null,
            "grid_gap": null,
            "max_width": null,
            "order": null,
            "_view_module_version": "1.2.0",
            "grid_template_areas": null,
            "object_position": null,
            "object_fit": null,
            "grid_auto_columns": null,
            "margin": null,
            "display": null,
            "left": null
          }
        },
        "3d06d0f9a66b4c638a997ec44b4b46b1": {
          "model_module": "@jupyter-widgets/controls",
          "model_name": "HBoxModel",
          "state": {
            "_view_name": "HBoxView",
            "_dom_classes": [],
            "_model_name": "HBoxModel",
            "_view_module": "@jupyter-widgets/controls",
            "_model_module_version": "1.5.0",
            "_view_count": null,
            "_view_module_version": "1.5.0",
            "box_style": "",
            "layout": "IPY_MODEL_dd0a76231c07456893f968339011b55f",
            "_model_module": "@jupyter-widgets/controls",
            "children": [
              "IPY_MODEL_bb751911d30c4dbb9b5ffa6fdd903a78",
              "IPY_MODEL_f076d196e7be47e89960fe1ec05a1b14"
            ]
          }
        },
        "dd0a76231c07456893f968339011b55f": {
          "model_module": "@jupyter-widgets/base",
          "model_name": "LayoutModel",
          "state": {
            "_view_name": "LayoutView",
            "grid_template_rows": null,
            "right": null,
            "justify_content": null,
            "_view_module": "@jupyter-widgets/base",
            "overflow": null,
            "_model_module_version": "1.2.0",
            "_view_count": null,
            "flex_flow": null,
            "width": null,
            "min_width": null,
            "border": null,
            "align_items": null,
            "bottom": null,
            "_model_module": "@jupyter-widgets/base",
            "top": null,
            "grid_column": null,
            "overflow_y": null,
            "overflow_x": null,
            "grid_auto_flow": null,
            "grid_area": null,
            "grid_template_columns": null,
            "flex": null,
            "_model_name": "LayoutModel",
            "justify_items": null,
            "grid_row": null,
            "max_height": null,
            "align_content": null,
            "visibility": null,
            "align_self": null,
            "height": null,
            "min_height": null,
            "padding": null,
            "grid_auto_rows": null,
            "grid_gap": null,
            "max_width": null,
            "order": null,
            "_view_module_version": "1.2.0",
            "grid_template_areas": null,
            "object_position": null,
            "object_fit": null,
            "grid_auto_columns": null,
            "margin": null,
            "display": null,
            "left": null
          }
        },
        "bb751911d30c4dbb9b5ffa6fdd903a78": {
          "model_module": "@jupyter-widgets/controls",
          "model_name": "IntProgressModel",
          "state": {
            "_view_name": "ProgressView",
            "style": "IPY_MODEL_5f3bd494923a40f2a2a010d364e91397",
            "_dom_classes": [],
            "description": "  0%",
            "_model_name": "IntProgressModel",
            "bar_style": "info",
            "max": 1,
            "_view_module": "@jupyter-widgets/controls",
            "_model_module_version": "1.5.0",
            "value": 0,
            "_view_count": null,
            "_view_module_version": "1.5.0",
            "orientation": "horizontal",
            "min": 0,
            "description_tooltip": null,
            "_model_module": "@jupyter-widgets/controls",
            "layout": "IPY_MODEL_88706bba498d46c5b64f4e4932865f1a"
          }
        },
        "f076d196e7be47e89960fe1ec05a1b14": {
          "model_module": "@jupyter-widgets/controls",
          "model_name": "HTMLModel",
          "state": {
            "_view_name": "HTMLView",
            "style": "IPY_MODEL_d9946707574b4621af48afee356cc2a4",
            "_dom_classes": [],
            "description": "",
            "_model_name": "HTMLModel",
            "placeholder": "​",
            "_view_module": "@jupyter-widgets/controls",
            "_model_module_version": "1.5.0",
            "value": " 0/4542 [00:00&lt;?, ?it/s]",
            "_view_count": null,
            "_view_module_version": "1.5.0",
            "description_tooltip": null,
            "_model_module": "@jupyter-widgets/controls",
            "layout": "IPY_MODEL_3687f7bf55964f80ad286dc6c47c41bf"
          }
        },
        "5f3bd494923a40f2a2a010d364e91397": {
          "model_module": "@jupyter-widgets/controls",
          "model_name": "ProgressStyleModel",
          "state": {
            "_view_name": "StyleView",
            "_model_name": "ProgressStyleModel",
            "description_width": "initial",
            "_view_module": "@jupyter-widgets/base",
            "_model_module_version": "1.5.0",
            "_view_count": null,
            "_view_module_version": "1.2.0",
            "bar_color": null,
            "_model_module": "@jupyter-widgets/controls"
          }
        },
        "88706bba498d46c5b64f4e4932865f1a": {
          "model_module": "@jupyter-widgets/base",
          "model_name": "LayoutModel",
          "state": {
            "_view_name": "LayoutView",
            "grid_template_rows": null,
            "right": null,
            "justify_content": null,
            "_view_module": "@jupyter-widgets/base",
            "overflow": null,
            "_model_module_version": "1.2.0",
            "_view_count": null,
            "flex_flow": null,
            "width": null,
            "min_width": null,
            "border": null,
            "align_items": null,
            "bottom": null,
            "_model_module": "@jupyter-widgets/base",
            "top": null,
            "grid_column": null,
            "overflow_y": null,
            "overflow_x": null,
            "grid_auto_flow": null,
            "grid_area": null,
            "grid_template_columns": null,
            "flex": null,
            "_model_name": "LayoutModel",
            "justify_items": null,
            "grid_row": null,
            "max_height": null,
            "align_content": null,
            "visibility": null,
            "align_self": null,
            "height": null,
            "min_height": null,
            "padding": null,
            "grid_auto_rows": null,
            "grid_gap": null,
            "max_width": null,
            "order": null,
            "_view_module_version": "1.2.0",
            "grid_template_areas": null,
            "object_position": null,
            "object_fit": null,
            "grid_auto_columns": null,
            "margin": null,
            "display": null,
            "left": null
          }
        },
        "d9946707574b4621af48afee356cc2a4": {
          "model_module": "@jupyter-widgets/controls",
          "model_name": "DescriptionStyleModel",
          "state": {
            "_view_name": "StyleView",
            "_model_name": "DescriptionStyleModel",
            "description_width": "",
            "_view_module": "@jupyter-widgets/base",
            "_model_module_version": "1.5.0",
            "_view_count": null,
            "_view_module_version": "1.2.0",
            "_model_module": "@jupyter-widgets/controls"
          }
        },
        "3687f7bf55964f80ad286dc6c47c41bf": {
          "model_module": "@jupyter-widgets/base",
          "model_name": "LayoutModel",
          "state": {
            "_view_name": "LayoutView",
            "grid_template_rows": null,
            "right": null,
            "justify_content": null,
            "_view_module": "@jupyter-widgets/base",
            "overflow": null,
            "_model_module_version": "1.2.0",
            "_view_count": null,
            "flex_flow": null,
            "width": null,
            "min_width": null,
            "border": null,
            "align_items": null,
            "bottom": null,
            "_model_module": "@jupyter-widgets/base",
            "top": null,
            "grid_column": null,
            "overflow_y": null,
            "overflow_x": null,
            "grid_auto_flow": null,
            "grid_area": null,
            "grid_template_columns": null,
            "flex": null,
            "_model_name": "LayoutModel",
            "justify_items": null,
            "grid_row": null,
            "max_height": null,
            "align_content": null,
            "visibility": null,
            "align_self": null,
            "height": null,
            "min_height": null,
            "padding": null,
            "grid_auto_rows": null,
            "grid_gap": null,
            "max_width": null,
            "order": null,
            "_view_module_version": "1.2.0",
            "grid_template_areas": null,
            "object_position": null,
            "object_fit": null,
            "grid_auto_columns": null,
            "margin": null,
            "display": null,
            "left": null
          }
        }
      }
    },
    "accelerator": "GPU"
  },
  "cells": [
    {
      "cell_type": "code",
      "metadata": {
        "id": "i9l84Z7QFR1h",
        "colab_type": "code",
        "colab": {}
      },
      "source": [
        "# References for some part of code mentioned in the solution"
      ],
      "execution_count": 0,
      "outputs": []
    },
    {
      "cell_type": "code",
      "metadata": {
        "id": "cfmTt_tcFR1k",
        "colab_type": "code",
        "colab": {}
      },
      "source": [
        "# Library imports\n",
        "import torch\n",
        "import torchvision\n",
        "import numpy as np\n",
        "from time import time\n",
        "from torch import optim,nn\n",
        "import torch.nn.functional as F\n",
        "import matplotlib.pyplot as plt\n",
        "from torchvision import transforms, datasets"
      ],
      "execution_count": 0,
      "outputs": []
    },
    {
      "cell_type": "code",
      "metadata": {
        "id": "AsKwMyWQFR1n",
        "colab_type": "code",
        "colab": {}
      },
      "source": [
        "# Parameters\n",
        "batch_size = 64\n",
        "random_seed = 10\n",
        "torch.manual_seed(random_seed)\n",
        "torch.backends.cudnn.enabled = False\n",
        "device = torch.device(\"cuda\" if torch.cuda.is_available() else \"cpu\")\n",
        "torch.set_default_tensor_type('torch.cuda.FloatTensor')"
      ],
      "execution_count": 0,
      "outputs": []
    },
    {
      "cell_type": "code",
      "metadata": {
        "id": "co6MPzALFR1q",
        "colab_type": "code",
        "colab": {}
      },
      "source": [
        "# Training module\n",
        "def train(optimiser, model, criterion, epochs=15):\n",
        "    losses = list()\n",
        "    start_time = time()\n",
        "    \n",
        "    # Initializing weights\n",
        "    input_size = 28*28\n",
        "    output_size = 10\n",
        "    hidden_sizes = [128, 64]\n",
        "    grad_history = dict()\n",
        "    \n",
        "    for t in range(epochs):\n",
        "        batch_loss = 0\n",
        "        for images, labels in train_loader:\n",
        "            # (28x28) vector for MNIST images\n",
        "            images = images.to(device)\n",
        "            labels = labels.to(device)\n",
        "            flat_images = images.view(images.shape[0], -1)\n",
        "            \n",
        "            # prediction\n",
        "            y_pred = model(flat_images)\n",
        "            # y_pred = model(images)\n",
        "            \n",
        "            # loss calculation\n",
        "            loss = criterion(y_pred, labels)\n",
        "\n",
        "            # Putting gradients as zero\n",
        "            optimiser.zero_grad(model)\n",
        "        \n",
        "            # This is where the model learns by backpropagating\n",
        "            loss.backward()\n",
        "\n",
        "            # And optimizes its weights here\n",
        "            optimiser.step(model)\n",
        "        \n",
        "            batch_loss += loss.item()\n",
        "            \n",
        "        # Collecting losses after every epoch\n",
        "        losses.append(batch_loss / len(train_loader))\n",
        "        print ('Epoch: {} - Loss: {}'.format(t, batch_loss / len(train_loader)))\n",
        "        \n",
        "    print(\"\\nTraining Time (in min) :\",(time() - start_time) / 60)\n",
        "    return [list(range(epochs)), losses]"
      ],
      "execution_count": 0,
      "outputs": []
    },
    {
      "cell_type": "code",
      "metadata": {
        "id": "Lse9dyMyFR1s",
        "colab_type": "code",
        "colab": {}
      },
      "source": [
        "# plotting loss\n",
        "def lossPlot(x, y):\n",
        "    plt.ylabel('Loss')\n",
        "    plt.xlabel('Epochs')\n",
        "    plt.plot(x,y)\n",
        "    plt.show()"
      ],
      "execution_count": 0,
      "outputs": []
    },
    {
      "cell_type": "code",
      "metadata": {
        "id": "v0Uf0ZyJFR1v",
        "colab_type": "code",
        "colab": {}
      },
      "source": [
        "# Validation (returns Accuracy)\n",
        "def validate(test_loader, model):\n",
        "    match, counter = 0, 0\n",
        "    for images, labels in test_loader:\n",
        "        for i in range(len(labels)):\n",
        "            images = images.to(device)\n",
        "            labels = labels.to(device)\n",
        "\n",
        "            # flatten the image\n",
        "            image = images[i].view(1, 28*28)\n",
        "            \n",
        "            # Turn off gradients and evaluating model\n",
        "            model.eval()\n",
        "            with torch.no_grad():\n",
        "                log_p = model(image)\n",
        "\n",
        "        # Converting log propbabilities into probabilities by exponentiatiation\n",
        "        prob = torch.exp(log_p)\n",
        "        pred_label = prob.argmax()\n",
        "        target_label = labels.cpu().numpy()[i]\n",
        "        \n",
        "        if(target_label == pred_label):\n",
        "            match += 1\n",
        "        counter += 1\n",
        "\n",
        "    return (match/counter)"
      ],
      "execution_count": 0,
      "outputs": []
    },
    {
      "cell_type": "code",
      "metadata": {
        "id": "1puWIS0S1ghk",
        "colab_type": "code",
        "colab": {}
      },
      "source": [
        "def train_test_bench(optimiser, model, criterion, epochs=20):\n",
        "  # Performs training and testing of various cases in question \n",
        "  # (Train and Test loaders are defined by the time this function is called)\n",
        "  x, y = train(optimiser, model.to(device), criterion, epochs=epochs)\n",
        "  lossPlot(x, y)\n",
        "  print ('Accuracy: {}'.format(validate(test_loader, model.to(device))*100))\n"
      ],
      "execution_count": 0,
      "outputs": []
    },
    {
      "cell_type": "code",
      "metadata": {
        "id": "YkRD3EuiFR1y",
        "colab_type": "code",
        "outputId": "b1ed2645-105d-4e92-df68-26e6df3d1cc5",
        "colab": {
          "base_uri": "https://localhost:8080/",
          "height": 386,
          "referenced_widgets": [
            "496df052b35f49c9b703949ae875cfbf",
            "0c9f049bfe7c4d39808467b45c97691b",
            "c829da3988724ee4b310abcf33a6bbed",
            "4fea11c0d7b747cabde85b86b028ff32",
            "8bb2bb1a4e244180ac8877092999800c",
            "1fe56052ef544271a3a13a20b343607b",
            "829b136d9efe44e7b225cbb023e7df74",
            "f12e68eb56c84ce4af21dcc56e22e089",
            "1279533f923d4c4eacc4a1de3358cda3",
            "a233b18c0b314fbd9e8607289a552934",
            "17ce2e214f1f423d9de3c293152389b7",
            "50413077f77546c6b7349db08cb13dec",
            "04396c51f12440dba0bc749b080cffa7",
            "4e6161ab2a8c45969d52b1f615c9e076",
            "6a6a56ff245e418ca36e32f6c2055e3b",
            "b79732eb79074eac84bcc5e84a6e49db",
            "3314b1564a20417694e8c5f1ad19b2fe",
            "b7e105d398d345e8b5cd5dc0ff330e39",
            "df97d107f4dc4aba90bed2c33703d424",
            "1a5f4e7359414c078693d4e6f84fe005",
            "a87b7a83155b402b908286c18e60d9f6",
            "6f90ef66d3bb40a8b1cadd2334bbee52",
            "f0925679a34a4e288855d06c2c7e15fa",
            "0f929b4cd9fb44a7870451499d79801b",
            "3d06d0f9a66b4c638a997ec44b4b46b1",
            "dd0a76231c07456893f968339011b55f",
            "bb751911d30c4dbb9b5ffa6fdd903a78",
            "f076d196e7be47e89960fe1ec05a1b14",
            "5f3bd494923a40f2a2a010d364e91397",
            "88706bba498d46c5b64f4e4932865f1a",
            "d9946707574b4621af48afee356cc2a4",
            "3687f7bf55964f80ad286dc6c47c41bf"
          ]
        }
      },
      "source": [
        "# (1a) Data download and preparation \n",
        "# i. Normalization (image = (image - mean) / std)\n",
        "# ii. Tensor convertion into matrix (batch_size X 1 X 28 X 28)\n",
        "\n",
        "# Defining Tranformer (mean=0.5, std=0.5)\n",
        "transform = transforms.Compose([transforms.ToTensor(),\n",
        "                              transforms.Normalize((0.1307,), (0.3081,)),\n",
        "                              ])\n",
        "\n",
        "# Downloading dataset (similar to cifar10 tutorial)\n",
        "train_set = datasets.MNIST('\\.', transform=transform, download=True, train=True)\n",
        "test_set = datasets.MNIST('\\.', transform=transform, download=True, train=False)\n",
        "\n",
        "# Loading dataset in batches\n",
        "train_loader = torch.utils.data.DataLoader(train_set, batch_size=64, shuffle=True)\n",
        "test_loader = torch.utils.data.DataLoader(test_set, batch_size=64, shuffle=True)"
      ],
      "execution_count": 12,
      "outputs": [
        {
          "output_type": "stream",
          "text": [
            "Downloading http://yann.lecun.com/exdb/mnist/train-images-idx3-ubyte.gz to \\./MNIST/raw/train-images-idx3-ubyte.gz\n"
          ],
          "name": "stdout"
        },
        {
          "output_type": "display_data",
          "data": {
            "application/vnd.jupyter.widget-view+json": {
              "model_id": "496df052b35f49c9b703949ae875cfbf",
              "version_minor": 0,
              "version_major": 2
            },
            "text/plain": [
              "HBox(children=(IntProgress(value=1, bar_style='info', max=1), HTML(value='')))"
            ]
          },
          "metadata": {
            "tags": []
          }
        },
        {
          "output_type": "stream",
          "text": [
            "Extracting \\./MNIST/raw/train-images-idx3-ubyte.gz to \\./MNIST/raw\n",
            "Downloading http://yann.lecun.com/exdb/mnist/train-labels-idx1-ubyte.gz to \\./MNIST/raw/train-labels-idx1-ubyte.gz\n"
          ],
          "name": "stdout"
        },
        {
          "output_type": "display_data",
          "data": {
            "application/vnd.jupyter.widget-view+json": {
              "model_id": "1279533f923d4c4eacc4a1de3358cda3",
              "version_minor": 0,
              "version_major": 2
            },
            "text/plain": [
              "HBox(children=(IntProgress(value=1, bar_style='info', max=1), HTML(value='')))"
            ]
          },
          "metadata": {
            "tags": []
          }
        },
        {
          "output_type": "stream",
          "text": [
            "Extracting \\./MNIST/raw/train-labels-idx1-ubyte.gz to \\./MNIST/raw\n",
            "Downloading http://yann.lecun.com/exdb/mnist/t10k-images-idx3-ubyte.gz to \\./MNIST/raw/t10k-images-idx3-ubyte.gz\n"
          ],
          "name": "stdout"
        },
        {
          "output_type": "display_data",
          "data": {
            "application/vnd.jupyter.widget-view+json": {
              "model_id": "3314b1564a20417694e8c5f1ad19b2fe",
              "version_minor": 0,
              "version_major": 2
            },
            "text/plain": [
              "HBox(children=(IntProgress(value=1, bar_style='info', max=1), HTML(value='')))"
            ]
          },
          "metadata": {
            "tags": []
          }
        },
        {
          "output_type": "stream",
          "text": [
            "Extracting \\./MNIST/raw/t10k-images-idx3-ubyte.gz to \\./MNIST/raw\n",
            "Downloading http://yann.lecun.com/exdb/mnist/t10k-labels-idx1-ubyte.gz to \\./MNIST/raw/t10k-labels-idx1-ubyte.gz\n",
            "\n",
            "\n"
          ],
          "name": "stdout"
        },
        {
          "output_type": "display_data",
          "data": {
            "application/vnd.jupyter.widget-view+json": {
              "model_id": "3d06d0f9a66b4c638a997ec44b4b46b1",
              "version_minor": 0,
              "version_major": 2
            },
            "text/plain": [
              "HBox(children=(IntProgress(value=1, bar_style='info', max=1), HTML(value='')))"
            ]
          },
          "metadata": {
            "tags": []
          }
        },
        {
          "output_type": "stream",
          "text": [
            "Extracting \\./MNIST/raw/t10k-labels-idx1-ubyte.gz to \\./MNIST/raw\n",
            "Processing...\n",
            "Done!\n"
          ],
          "name": "stdout"
        },
        {
          "output_type": "stream",
          "text": [
            "/pytorch/torch/csrc/utils/tensor_numpy.cpp:141: UserWarning: The given NumPy array is not writeable, and PyTorch does not support non-writeable tensors. This means you can write to the underlying (supposedly non-writeable) NumPy array using the tensor. You may want to copy the array to protect its data or make it writeable before converting it to a tensor. This type of warning will be suppressed for the rest of this program.\n"
          ],
          "name": "stderr"
        }
      ]
    },
    {
      "cell_type": "code",
      "metadata": {
        "id": "Y8rq1kIBFR11",
        "colab_type": "code",
        "colab": {}
      },
      "source": [
        "# (1b) Shallow (3-layered NN with RelU, LogMax outer layer and NLL loss)\n",
        "\n",
        "# Model Instantiation\n",
        "def Model():\n",
        "  inp_size = 28*28\n",
        "  out_size = 10\n",
        "  hidden_sizes = [128, 128]\n",
        "  return nn.Sequential(nn.Linear(inp_size, hidden_sizes[0]),\n",
        "                        nn.ReLU(),\n",
        "                        nn.Linear(hidden_sizes[0], hidden_sizes[1]),\n",
        "                        nn.ReLU(),\n",
        "                        nn.Linear(hidden_sizes[1], out_size),\n",
        "                        nn.LogSoftmax(dim=1))\n",
        "\n",
        "# Loss function\n",
        "criterion = nn.NLLLoss()"
      ],
      "execution_count": 0,
      "outputs": []
    },
    {
      "cell_type": "code",
      "metadata": {
        "id": "ZEbvqX5HFR13",
        "colab_type": "code",
        "colab": {
          "base_uri": "https://localhost:8080/",
          "height": 1000
        },
        "outputId": "414a4ef7-f2d1-4be4-a474-478054719656"
      },
      "source": [
        "# (1c) Adagrad\n",
        "class Adagrad:\n",
        "    def __init__(self, lr=0.0001):\n",
        "        self.grad_hist = dict()\n",
        "        self.lr = lr\n",
        "        \n",
        "    def step(self, model):\n",
        "        # Iterating layer by layer through parameters\n",
        "        lr = self.lr\n",
        "        for name, param in model.named_parameters():\n",
        "            if param.requires_grad:\n",
        "              # Updating parameters that require gradient \n",
        "              if name not in self.grad_hist:\n",
        "                  self.grad_hist[name] = torch.ones(param.data.shape)*1e-10\n",
        "                  \n",
        "              self.grad_hist[name] += param.grad**2\n",
        "              param.data -= lr * (param.grad / (self.grad_hist[name]**0.5))\n",
        "                \n",
        "        return \n",
        "\n",
        "    def zero_grad(self, model):\n",
        "      for name, param in model.named_parameters():\n",
        "        if param.requires_grad:\n",
        "          param.grad = torch.zeros(param.data.shape)\n",
        "\n",
        "# Training and Testing\n",
        "train_test_bench(Adagrad(lr=0.003), Model(), criterion, epochs=60)"
      ],
      "execution_count": 14,
      "outputs": [
        {
          "output_type": "stream",
          "text": [
            "Epoch: 0 - Loss: 0.31887171895249183\n",
            "Epoch: 1 - Loss: 0.1986935280604975\n",
            "Epoch: 2 - Loss: 0.16769449208289194\n",
            "Epoch: 3 - Loss: 0.14960433450589047\n",
            "Epoch: 4 - Loss: 0.1365131800736128\n",
            "Epoch: 5 - Loss: 0.12646079680193334\n",
            "Epoch: 6 - Loss: 0.1186271504417602\n",
            "Epoch: 7 - Loss: 0.1121753414473268\n",
            "Epoch: 8 - Loss: 0.10649682864594434\n",
            "Epoch: 9 - Loss: 0.10161784629839887\n",
            "Epoch: 10 - Loss: 0.09737011433632643\n",
            "Epoch: 11 - Loss: 0.09352278886938781\n",
            "Epoch: 12 - Loss: 0.09006675696576327\n",
            "Epoch: 13 - Loss: 0.08693062890170099\n",
            "Epoch: 14 - Loss: 0.08402212935168224\n",
            "Epoch: 15 - Loss: 0.08143230961925631\n",
            "Epoch: 16 - Loss: 0.0788464300564802\n",
            "Epoch: 17 - Loss: 0.07661633422451296\n",
            "Epoch: 18 - Loss: 0.07453083236024642\n",
            "Epoch: 19 - Loss: 0.07243893913098617\n",
            "Epoch: 20 - Loss: 0.07071597218862984\n",
            "Epoch: 21 - Loss: 0.06868636770757722\n",
            "Epoch: 22 - Loss: 0.06715562585185268\n",
            "Epoch: 23 - Loss: 0.0655141413124449\n",
            "Epoch: 24 - Loss: 0.0639624330959817\n",
            "Epoch: 25 - Loss: 0.06269930944299457\n",
            "Epoch: 26 - Loss: 0.06128450915185627\n",
            "Epoch: 27 - Loss: 0.05998769137801837\n",
            "Epoch: 28 - Loss: 0.058728023708216164\n",
            "Epoch: 29 - Loss: 0.05740183797369062\n",
            "Epoch: 30 - Loss: 0.05642565802486339\n",
            "Epoch: 31 - Loss: 0.05533901588725192\n",
            "Epoch: 32 - Loss: 0.054333896928234524\n",
            "Epoch: 33 - Loss: 0.05321939915283593\n",
            "Epoch: 34 - Loss: 0.052291064010833756\n",
            "Epoch: 35 - Loss: 0.051375467826657965\n",
            "Epoch: 36 - Loss: 0.050451767144363314\n",
            "Epoch: 37 - Loss: 0.04956826875641593\n",
            "Epoch: 38 - Loss: 0.04872402759677947\n",
            "Epoch: 39 - Loss: 0.0479802693278074\n",
            "Epoch: 40 - Loss: 0.04716040488523143\n",
            "Epoch: 41 - Loss: 0.04641270080903001\n",
            "Epoch: 42 - Loss: 0.045678083467156266\n",
            "Epoch: 43 - Loss: 0.04487167846864221\n",
            "Epoch: 44 - Loss: 0.0441878912215834\n",
            "Epoch: 45 - Loss: 0.04347094619023139\n",
            "Epoch: 46 - Loss: 0.042909565421421006\n",
            "Epoch: 47 - Loss: 0.04216855660930816\n",
            "Epoch: 48 - Loss: 0.041547798051206924\n",
            "Epoch: 49 - Loss: 0.04098252850030658\n",
            "Epoch: 50 - Loss: 0.04047033884155471\n",
            "Epoch: 51 - Loss: 0.0398558263899262\n",
            "Epoch: 52 - Loss: 0.03919810180200824\n",
            "Epoch: 53 - Loss: 0.03875232474215186\n",
            "Epoch: 54 - Loss: 0.038121481126210076\n",
            "Epoch: 55 - Loss: 0.03765738145636915\n",
            "Epoch: 56 - Loss: 0.037097303098492594\n",
            "Epoch: 57 - Loss: 0.036576567646632314\n",
            "Epoch: 58 - Loss: 0.03604480095390381\n"
          ],
          "name": "stdout"
        },
        {
          "output_type": "display_data",
          "data": {
            "image/png": "[encoded data removed]",
            "text/plain": [
              "<Figure size 432x288 with 1 Axes>"
            ]
          },
          "metadata": {
            "tags": [],
            "needs_background": "light"
          }
        },
        {
          "output_type": "stream",
          "text": [
            "Accuracy: 98.08917197452229\n"
          ],
          "name": "stdout"
        }
      ]
    },
    {
      "cell_type": "code",
      "metadata": {
        "id": "CNm4trPBFR17",
        "colab_type": "code",
        "colab": {
          "base_uri": "https://localhost:8080/",
          "height": 670
        },
        "outputId": "d4b564cb-5bfb-4d7c-c9ea-124dd0d746f6"
      },
      "source": [
        "# (1d) RMSprop\n",
        "class RMSprop:\n",
        "    def __init__(self, lr):\n",
        "      self.lr = lr\n",
        "      self.beta = 0.999\n",
        "      self.grad_hist = dict()\n",
        "        \n",
        "    def step(self, model):\n",
        "      # Iterating layer by layer through parameters\n",
        "      lr = self.lr\n",
        "      for name, param in model.named_parameters():\n",
        "          if param.requires_grad:\n",
        "            # Updating parameters that require gradient \n",
        "            if name not in self.grad_hist:\n",
        "              self.grad_hist[name] = (1-self.beta)*(param.grad**2) + torch.ones(param.data.shape)*1e-10\n",
        "            else:\n",
        "              self.grad_hist[name] = self.beta*self.grad_hist[name] + (1 - self.beta)*(param.grad**2)\n",
        "                \n",
        "            param.data -= lr * (param.grad / (self.grad_hist[name]**0.5))\n",
        "              \n",
        "      return\n",
        "\n",
        "    def zero_grad(self, model):\n",
        "      for name, param in model.named_parameters():\n",
        "        if param.requires_grad:\n",
        "          param.grad = torch.zeros(param.data.shape)\n",
        "\n",
        "# Training and Testing\n",
        "train_test_bench(RMSprop(lr=0.001), Model(), criterion, epochs=20)"
      ],
      "execution_count": 15,
      "outputs": [
        {
          "output_type": "stream",
          "text": [
            "Epoch: 0 - Loss: 0.25182052786702286\n",
            "Epoch: 1 - Loss: 0.10711744863754397\n",
            "Epoch: 2 - Loss: 0.08131757017566578\n",
            "Epoch: 3 - Loss: 0.0636136912857927\n",
            "Epoch: 4 - Loss: 0.05324005272223561\n",
            "Epoch: 5 - Loss: 0.0444906819810364\n",
            "Epoch: 6 - Loss: 0.03767745964515057\n",
            "Epoch: 7 - Loss: 0.03244245451674469\n",
            "Epoch: 8 - Loss: 0.029601891235168428\n",
            "Epoch: 9 - Loss: 0.02475789017173082\n",
            "Epoch: 10 - Loss: 0.023705648065709482\n",
            "Epoch: 11 - Loss: 0.020989325356238812\n",
            "Epoch: 12 - Loss: 0.019178161301266854\n",
            "Epoch: 13 - Loss: 0.020394445760354304\n",
            "Epoch: 14 - Loss: 0.014638377047741591\n",
            "Epoch: 15 - Loss: 0.014465270266095712\n",
            "Epoch: 16 - Loss: 0.016951999778964562\n",
            "Epoch: 17 - Loss: 0.012168011489087966\n",
            "Epoch: 18 - Loss: 0.014296045894228192\n",
            "Epoch: 19 - Loss: 0.012868995851735825\n",
            "\n",
            "Training Time (in min) : 2.8288537740707396\n"
          ],
          "name": "stdout"
        },
        {
          "output_type": "display_data",
          "data": {
            "image/png": "[encoded data removed]",
            "text/plain": [
              "<Figure size 432x288 with 1 Axes>"
            ]
          },
          "metadata": {
            "tags": [],
            "needs_background": "light"
          }
        },
        {
          "output_type": "stream",
          "text": [
            "Accuracy: 98.72611464968153\n"
          ],
          "name": "stdout"
        }
      ]
    },
    {
      "cell_type": "code",
      "metadata": {
        "id": "WlTzD2v8nKhG",
        "colab_type": "code",
        "colab": {
          "base_uri": "https://localhost:8080/",
          "height": 673
        },
        "outputId": "d282e318-2c3a-4da2-9cc7-b1385f8ff31b"
      },
      "source": [
        "# (1e) Adam\n",
        "class Adam:\n",
        "    def __init__(self, lr=0.0001):\n",
        "      self.lr = lr\n",
        "      self.beta_1 = 0.9\n",
        "      self.beta_2 = 0.999\n",
        "      self.grad_hist = dict()\n",
        "      self.momentum = dict()\n",
        "        \n",
        "    def step(self, model):\n",
        "        # Iterating layer by layer through parameters\n",
        "        lr = self.lr\n",
        "        for name, param in model.named_parameters():\n",
        "          if param.requires_grad:\n",
        "              # Updating parameters that require gradient \n",
        "              if name not in self.momentum:\n",
        "                self.momentum[name] = self.beta_1*param.grad\n",
        "              else:\n",
        "                self.momentum[name] = self.beta_1*self.momentum[name] + (1 - self.beta_1)*param.grad\n",
        "\n",
        "              if name not in self.grad_hist:\n",
        "                self.grad_hist[name] = (1-self.beta_2)*(param.grad**2) + torch.ones(param.data.shape)*1e-10\n",
        "              else:\n",
        "                self.grad_hist[name] = self.beta_2*self.grad_hist[name] + (1 - self.beta_2)*(param.grad**2)\n",
        "\n",
        "              param.data -= lr * (self.momentum[name] / (self.grad_hist[name]**0.5))\n",
        "              \n",
        "        return\n",
        "\n",
        "    def zero_grad(self, model):\n",
        "      for name, param in model.named_parameters():\n",
        "        if param.requires_grad:\n",
        "          param.grad = torch.zeros(param.data.shape)\n",
        "\n",
        "# Training and Testing\n",
        "train_test_bench(Adam(lr=0.0003), Model(), criterion, epochs=10)"
      ],
      "execution_count": 26,
      "outputs": [
        {
          "output_type": "stream",
          "text": [
            "Epoch: 0 - Loss: 0.23980263404564053\n",
            "Epoch: 1 - Loss: 0.1045267880757226\n",
            "Epoch: 2 - Loss: 0.07800178084649574\n",
            "Epoch: 3 - Loss: 0.061444381557738605\n",
            "Epoch: 4 - Loss: 0.05176451606854701\n",
            "Epoch: 5 - Loss: 0.044935427169238075\n",
            "Epoch: 6 - Loss: 0.03599596721952213\n",
            "Epoch: 7 - Loss: 0.030678946189264627\n",
            "Epoch: 8 - Loss: 0.02720343153069872\n",
            "Epoch: 9 - Loss: 0.021392039851402676\n",
            "Epoch: 10 - Loss: 0.021155219014757858\n",
            "Epoch: 11 - Loss: 0.018973127760584834\n",
            "Epoch: 12 - Loss: 0.0170646253635666\n",
            "Epoch: 13 - Loss: 0.015477967699731527\n",
            "Epoch: 14 - Loss: 0.01450743766249354\n",
            "Epoch: 15 - Loss: 0.012479565387814124\n",
            "Epoch: 16 - Loss: 0.012935392983527834\n",
            "Epoch: 17 - Loss: 0.011896860794718267\n",
            "Epoch: 18 - Loss: 0.01292438989878495\n",
            "Epoch: 19 - Loss: 0.012219650332561768\n",
            "\n",
            "Training Time (in min) : 2.9326669216156005\n"
          ],
          "name": "stdout"
        },
        {
          "output_type": "display_data",
          "data": {
            "image/png": "[encoded data removed]",
            "text/plain": [
              "<Figure size 432x288 with 1 Axes>"
            ]
          },
          "metadata": {
            "tags": [],
            "needs_background": "light"
          }
        },
        {
          "output_type": "stream",
          "text": [
            "Accuracy: 99.36305732484077\n"
          ],
          "name": "stdout"
        }
      ]
    },
    {
      "cell_type": "code",
      "metadata": {
        "id": "ZJsnVgZNSzDP",
        "colab_type": "code",
        "colab": {
          "base_uri": "https://localhost:8080/",
          "height": 500
        },
        "outputId": "7005f614-ab3b-40c2-bc30-fde7e130e39d"
      },
      "source": [
        "# (2b i) Deep (8-layered NN with RelU, LogMax outer layer and NLL loss)\n",
        "\n",
        "# Model Instantiation\n",
        "def Model_E():\n",
        "  inp_size = 28*28\n",
        "  out_size = 10\n",
        "  hidden_sizes = [128, 64, 64, 64, 64, 64, 64, 64]\n",
        "  return nn.Sequential(nn.Linear(inp_size, hidden_sizes[0]),\n",
        "                        nn.ReLU(),\n",
        "                        nn.Linear(hidden_sizes[0], hidden_sizes[1]),\n",
        "                        nn.ReLU(),\n",
        "                        nn.Linear(hidden_sizes[1], hidden_sizes[2]),\n",
        "                        nn.ReLU(),\n",
        "                        nn.Linear(hidden_sizes[2], hidden_sizes[3]),\n",
        "                        nn.ReLU(),\n",
        "                        nn.Linear(hidden_sizes[3], hidden_sizes[4]),\n",
        "                        nn.ReLU(),\n",
        "                        nn.Linear(hidden_sizes[4], hidden_sizes[5]),\n",
        "                        nn.ReLU(),\n",
        "                        nn.Linear(hidden_sizes[5], hidden_sizes[6]),\n",
        "                        nn.ReLU(),\n",
        "                        nn.Linear(hidden_sizes[6], hidden_sizes[7]),\n",
        "                        nn.ReLU(),\n",
        "                        nn.Linear(hidden_sizes[7], out_size),\n",
        "                        nn.LogSoftmax(dim=1))\n",
        "\n",
        "# Training and Testing\n",
        "train_test_bench(Adam(lr=0.0003), Model_E(), criterion, epochs=10)"
      ],
      "execution_count": 27,
      "outputs": [
        {
          "output_type": "stream",
          "text": [
            "Epoch: 0 - Loss: 0.5216630940387117\n",
            "Epoch: 1 - Loss: 0.19751454721183093\n",
            "Epoch: 2 - Loss: 0.14552405468229926\n",
            "Epoch: 3 - Loss: 0.11638133924629197\n",
            "Epoch: 4 - Loss: 0.09645171381080392\n",
            "Epoch: 5 - Loss: 0.07937530481588168\n",
            "Epoch: 6 - Loss: 0.06801522769399289\n",
            "Epoch: 7 - Loss: 0.05946998712398223\n",
            "Epoch: 8 - Loss: 0.05183189349380066\n",
            "Epoch: 9 - Loss: 0.04535746955469664\n",
            "\n",
            "Training Time (in min) : 1.8721476117769877\n"
          ],
          "name": "stdout"
        },
        {
          "output_type": "display_data",
          "data": {
            "image/png": "[encoded data removed]",
            "text/plain": [
              "<Figure size 432x288 with 1 Axes>"
            ]
          },
          "metadata": {
            "tags": [],
            "needs_background": "light"
          }
        },
        {
          "output_type": "stream",
          "text": [
            "Accuracy: 98.08917197452229\n"
          ],
          "name": "stdout"
        }
      ]
    },
    {
      "cell_type": "code",
      "metadata": {
        "id": "0K1ghkPUzPcG",
        "colab_type": "code",
        "colab": {
          "base_uri": "https://localhost:8080/",
          "height": 500
        },
        "outputId": "14bb4477-b1eb-4fac-96cb-5b7dee54033b"
      },
      "source": [
        "# (2b ii) Batch Normalization in certain layers\n",
        "\n",
        "# Model Instantiation\n",
        "def Model_BN():\n",
        "  inp_size = 28*28\n",
        "  out_size = 10\n",
        "  hidden_sizes = [128, 64, 64, 64, 64, 64, 64, 64]\n",
        "  return nn.Sequential(nn.Linear(inp_size, hidden_sizes[0]),\n",
        "                        nn.BatchNorm1d(hidden_sizes[0]),\n",
        "                        nn.ReLU(),\n",
        "                        nn.Linear(hidden_sizes[0], hidden_sizes[1]),\n",
        "                        nn.ReLU(),\n",
        "                        nn.Linear(hidden_sizes[1], hidden_sizes[2]),\n",
        "                        nn.BatchNorm1d(hidden_sizes[2]),\n",
        "                        nn.ReLU(),\n",
        "                        nn.Linear(hidden_sizes[2], hidden_sizes[3]),\n",
        "                        nn.ReLU(),\n",
        "                        nn.Linear(hidden_sizes[3], hidden_sizes[4]),\n",
        "                        nn.BatchNorm1d(hidden_sizes[4]),\n",
        "                        nn.ReLU(),\n",
        "                        nn.Linear(hidden_sizes[4], hidden_sizes[5]),\n",
        "                        nn.ReLU(),\n",
        "                        nn.Linear(hidden_sizes[5], hidden_sizes[6]),\n",
        "                        nn.BatchNorm1d(hidden_sizes[6]),\n",
        "                        nn.ReLU(),\n",
        "                        nn.Linear(hidden_sizes[6], hidden_sizes[7]),\n",
        "                        nn.ReLU(),\n",
        "                        nn.Linear(hidden_sizes[7], out_size),\n",
        "                        nn.LogSoftmax(dim=1))\n",
        "\n",
        "# Training and Testing\n",
        "train_test_bench(Adam(lr=0.0003), Model_BN(), criterion, epochs=10)"
      ],
      "execution_count": 28,
      "outputs": [
        {
          "output_type": "stream",
          "text": [
            "Epoch: 0 - Loss: 0.3201908120420823\n",
            "Epoch: 1 - Loss: 0.141896012574752\n",
            "Epoch: 2 - Loss: 0.10976071387275195\n",
            "Epoch: 3 - Loss: 0.09486191099021099\n",
            "Epoch: 4 - Loss: 0.07975459416140752\n",
            "Epoch: 5 - Loss: 0.06954954677362686\n",
            "Epoch: 6 - Loss: 0.06439569012931129\n",
            "Epoch: 7 - Loss: 0.05383598698930604\n",
            "Epoch: 8 - Loss: 0.04656068077767645\n",
            "Epoch: 9 - Loss: 0.04565304763484071\n",
            "\n",
            "Training Time (in min) : 2.108139940102895\n"
          ],
          "name": "stdout"
        },
        {
          "output_type": "display_data",
          "data": {
            "image/png": "[encoded data removed]",
            "text/plain": [
              "<Figure size 432x288 with 1 Axes>"
            ]
          },
          "metadata": {
            "tags": [],
            "needs_background": "light"
          }
        },
        {
          "output_type": "stream",
          "text": [
            "Accuracy: 98.72611464968153\n"
          ],
          "name": "stdout"
        }
      ]
    },
    {
      "cell_type": "code",
      "metadata": {
        "id": "_J_wy6XN0HKd",
        "colab_type": "code",
        "colab": {
          "base_uri": "https://localhost:8080/",
          "height": 500
        },
        "outputId": "1c550e37-de75-4a0a-c38d-705f62804127"
      },
      "source": [
        "# (2c) Dropout in certain layers\n",
        "\n",
        "# Model Instantiation\n",
        "def Model_DP(dropout=0.5):\n",
        "  inp_size = 28*28\n",
        "  out_size = 10\n",
        "  hidden_sizes = [128, 64, 64, 64, 64, 64, 64, 64]\n",
        "  return nn.Sequential(nn.Linear(inp_size, hidden_sizes[0]),\n",
        "                        nn.ReLU(),\n",
        "                        nn.Linear(hidden_sizes[0], hidden_sizes[1]),\n",
        "                        nn.ReLU(),\n",
        "                        nn.Linear(hidden_sizes[1], hidden_sizes[2]),\n",
        "                        nn.ReLU(),\n",
        "                        nn.Linear(hidden_sizes[2], hidden_sizes[3]),\n",
        "                        nn.ReLU(),\n",
        "                        nn.Linear(hidden_sizes[3], hidden_sizes[4]),\n",
        "                        nn.ReLU(),\n",
        "                        nn.Linear(hidden_sizes[4], hidden_sizes[5]),\n",
        "                        nn.ReLU(),\n",
        "                        nn.Linear(hidden_sizes[5], hidden_sizes[6]),\n",
        "                        nn.Dropout(dropout),\n",
        "                        nn.ReLU(),\n",
        "                        nn.Linear(hidden_sizes[6], hidden_sizes[7]),\n",
        "                        nn.ReLU(),\n",
        "                        nn.Linear(hidden_sizes[7], out_size),\n",
        "                        nn.LogSoftmax(dim=1))\n",
        "\n",
        "# Training and Testing\n",
        "train_test_bench(Adam(lr=0.0003), Model_DP(dropout=0.5), criterion, epochs=10)"
      ],
      "execution_count": 45,
      "outputs": [
        {
          "output_type": "stream",
          "text": [
            "Epoch: 0 - Loss: 0.8833653584027341\n",
            "Epoch: 1 - Loss: 0.3685777135479298\n",
            "Epoch: 2 - Loss: 0.2620535519625396\n",
            "Epoch: 3 - Loss: 0.211883502470246\n",
            "Epoch: 4 - Loss: 0.17840507041925052\n",
            "Epoch: 5 - Loss: 0.15318048226116882\n",
            "Epoch: 6 - Loss: 0.13721359640296335\n",
            "Epoch: 7 - Loss: 0.12256534138261509\n",
            "Epoch: 8 - Loss: 0.105291901233751\n",
            "Epoch: 9 - Loss: 0.09501625749983512\n",
            "\n",
            "Training Time (in min) : 2.018958604335785\n"
          ],
          "name": "stdout"
        },
        {
          "output_type": "display_data",
          "data": {
            "image/png": "[encoded data removed]",
            "text/plain": [
              "<Figure size 432x288 with 1 Axes>"
            ]
          },
          "metadata": {
            "tags": [],
            "needs_background": "light"
          }
        },
        {
          "output_type": "stream",
          "text": [
            "Accuracy: 98.72611464968153\n"
          ],
          "name": "stdout"
        }
      ]
    }
  ]
}